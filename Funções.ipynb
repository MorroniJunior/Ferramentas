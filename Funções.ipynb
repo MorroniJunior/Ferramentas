{
 "cells": [
  {
   "cell_type": "markdown",
   "id": "2faf618b",
   "metadata": {},
   "source": [
    "### Alguma das funções que desenvolvi durante minha graduação"
   ]
  },
  {
   "cell_type": "code",
   "execution_count": 1,
   "id": "da93c2b5",
   "metadata": {},
   "outputs": [],
   "source": [
    "import math # Import do pacote math para ultilizar a função pi para calcular o comprimento e a area de um circulo"
   ]
  },
  {
   "cell_type": "markdown",
   "id": "1ed0b042",
   "metadata": {},
   "source": [
    "#### Area e comprimento de uma circunferência \n",
    "https://mundoeducacao.uol.com.br/matematica/comprimento-circunferencia.htm#:~:text=Para%20calcular%20o%20comprimento%20da,calculado%20pela%20f%C3%B3rmula%20C%20%3D%202%CF%80r. \n",
    "\n",
    "https://brasilescola.uol.com.br/matematica/area-circulo.htm "
   ]
  },
  {
   "cell_type": "code",
   "execution_count": 15,
   "id": "da42d461",
   "metadata": {},
   "outputs": [
    {
     "name": "stdout",
     "output_type": "stream",
     "text": [
      "Digite um valor numérico para o raio da circunferência: 5\n",
      "Para o raio igual a 5.0, temos: comprimento igual a 31.42 e área igual a 78.54\n"
     ]
    }
   ],
   "source": [
    "### Definindo a função Comprimento e a função Area\n",
    "def Comprimento(raio):\n",
    "    '''\n",
    "    Função que recebe o raio de uma circunferência e retorna o comprimento da mesma\n",
    "    '''\n",
    "    comprimento = 2 * math.pi * raio\n",
    "    return round(comprimento,2)\n",
    "\n",
    "def Area(raio):\n",
    "    '''\n",
    "    Função que recebe o raio de uma circunferência e retorna a área da mesma\n",
    "    '''\n",
    "    area = math.pi * raio **2\n",
    "    return round(area,2)\n",
    "\n",
    "# Exemplo:\n",
    "raio = float(input('Digite um valor numérico para o raio da circunferência: '))\n",
    "print(f\"Para o raio igual a {raio}, temos: comprimento igual a {Comprimento(raio)} e área igual a {Area(raio)}\")"
   ]
  },
  {
   "cell_type": "markdown",
   "id": "f6dcab81",
   "metadata": {},
   "source": [
    "#### Sequência de Fibonacci \n",
    "https://pt.wikipedia.org/wiki/Sequ%C3%AAncia_de_Fibonacci"
   ]
  },
  {
   "cell_type": "code",
   "execution_count": 18,
   "id": "61c6cb84",
   "metadata": {},
   "outputs": [
    {
     "name": "stdout",
     "output_type": "stream",
     "text": [
      "Qual número da sequência de Fibonacci deseja saber? 5\n",
      "O 5-ésimo número de Fibonacci é: 3\n"
     ]
    }
   ],
   "source": [
    "def Fibonacci(n):\n",
    "    '''\n",
    "    Função que recebe um número e calcula qual o valor que está na sequencia de Fibonacci para esse número\n",
    "    '''\n",
    "    if(n <= 0):\n",
    "        return \"O Input deve ser número positivo.\"\n",
    "    elif(n == 1):\n",
    "        return 0\n",
    "    elif(n == 2):\n",
    "        return 1\n",
    "    else:\n",
    "        return Fibonacci(n-1) + Fibonacci(n-2)\n",
    "\n",
    "# Exemplo:\n",
    "n = int(input('Qual número da sequência de Fibonacci deseja saber? '))  \n",
    "resultado = Fibonacci(n)\n",
    "print(f\"O {n}-ésimo número de Fibonacci é: {resultado}\")"
   ]
  },
  {
   "cell_type": "markdown",
   "id": "9c1addab",
   "metadata": {},
   "source": [
    "#### Transformação de medida de temperatura"
   ]
  },
  {
   "cell_type": "code",
   "execution_count": 48,
   "id": "fe7f0eed",
   "metadata": {},
   "outputs": [
    {
     "name": "stdout",
     "output_type": "stream",
     "text": [
      "Qual a medida de temperatura inicial? Kevin\n",
      "Qual a medida de temperatura final? Celsius\n",
      "Quantos graus são? 7\n",
      "Confirme as informações passadas.\n"
     ]
    }
   ],
   "source": [
    "def Fahrenheit_Celsius(valor):\n",
    "    '''\n",
    "    Função que transforma graus Fahrenheit em graus Celsius\n",
    "    '''\n",
    "    celsius = (valor - 32) * 5/9\n",
    "    return round(celsius, 2)\n",
    "\n",
    "def Celsius_Fahrenheit(valor):\n",
    "    '''\n",
    "    Função que transforma graus Celsius em graus Fahrenheit\n",
    "    '''\n",
    "    Fahrenheit = (valor * 9/5) + 32\n",
    "    return round(Fahrenheit, 2)\n",
    "\n",
    "def Celsius_Kelvin(valor):\n",
    "    '''\n",
    "    Função que transforma graus Celsius em graus Kelvin\n",
    "    '''\n",
    "    Kelvin = valor + 273\n",
    "    return round(Kelvin, 2)\n",
    "\n",
    "def Kelvin_Celsius(valor):\n",
    "    '''\n",
    "    Função que transforma graus Kelvin em graus Celsius\n",
    "    '''\n",
    "    Celsius = valor - 273\n",
    "    return round(Celsius, 2)\n",
    "\n",
    "def Fahrenheit_Kelvin(valor):\n",
    "    '''\n",
    "    Função que transforma graus Fahrenheit em graus Kelvin\n",
    "    '''\n",
    "    Kelvin = (valor - 32) * 5/9 + 273.15\n",
    "    return round(Kelvin, 2)\n",
    "\n",
    "def Kelvin_Fahrenheit(valor):\n",
    "    '''\n",
    "    Função que transforma graus Kelvin em graus Fahrenheit\n",
    "    '''\n",
    "    Fahrenheit = (valor * 9/5) - 459.67\n",
    "    return round(Fahrenheit,2)\n",
    "\n",
    "def escolha_de_formaula(inicial, final, valor):\n",
    "    '''\n",
    "    Função que recebe a medida inicial, a medida final e o valor da medida inicial. Após isso, ela faz a transformação\n",
    "    dos graus chamando uma das funções acima.\n",
    "    '''\n",
    "    inicial = inicial.lower()\n",
    "    final = final.lower()\n",
    "    if((inicial == \"fahrenheit\") & (final == 'celsius')):\n",
    "        return print(f'A transformação de {valor} Fahrenheit em Celsius resulta em: {Fahrenheit_Celsius(valor)}')\n",
    "        \n",
    "    elif((inicial == \"celsius\") & (final == 'fahrenheit')):\n",
    "        return print(f'A transformação de {valor} Celsius em Fahrenheit resulta em: {Celsius_Fahrenheit(valor)}')\n",
    "        \n",
    "    elif((inicial == \"celsius\") & (final == 'kelvin')):\n",
    "        return print(f'A transformação de {valor} Celsius em Kelvin resulta em: {Celsius_Kelvin(valor)}')\n",
    "        \n",
    "    elif((inicial == \"kelvin\") & (final == 'celsius')):\n",
    "        return print(f'A transformação de {valor} Kelvin em Celsius resulta em: {Kelvin_Celsius(valor)}')\n",
    "        \n",
    "    elif((inicial == \"fahrenheit\") & (final == 'kelvin')):\n",
    "        return print(f'A transformação de {valor} Fahrenheit em Kelvin resulta em: {Fahrenheit_Kelvin(valor)}')\n",
    "        \n",
    "    elif((inicial == \"kelvin\") & (final == 'fahrenheit')):\n",
    "        return print(f'A transformação de {valor} Kelvin em Fahrenheit resulta em: {Kelvin_Fahrenheit(valor)}')\n",
    "    \n",
    "    else: \n",
    "        return print('Confirme as informações passadas.')\n",
    "    \n",
    "    \n",
    "# Exemplo:\n",
    "x = input(\"Qual a medida de temperatura inicial? \")\n",
    "y = input(\"Qual a medida de temperatura final? \")\n",
    "z = int(input(\"Quantos graus são? \"))\n",
    "print('/n')\n",
    "escolha_de_formaula(x,y,z)"
   ]
  },
  {
   "cell_type": "markdown",
   "id": "4a252a32",
   "metadata": {},
   "source": [
    "#### Tipo de triângulo\n",
    "\n",
    "https://escolakids.uol.com.br/matematica/classificacao-dos-triangulos.htm#:~:text=Um%20tri%C3%A2ngulo%20%C3%A9%20chamado%20de,todos%20os%20%C3%A2ngulos%20s%C3%A3o%20agudos."
   ]
  },
  {
   "cell_type": "code",
   "execution_count": null,
   "id": "cbe814ed",
   "metadata": {},
   "outputs": [],
   "source": [
    "def tipo_triangulo(x, y, z):\n",
    "    # Verifica se os lados formam um triângulo válido\n",
    "    if (x + y > z) and (x + z > y) and (y + z > x):\n",
    "        # Classifica o triângulo com base nos lados\n",
    "        if x == y == z:\n",
    "            return \"Equilátero\"\n",
    "        elif x == y or x == z or y == z:\n",
    "            return \"Isósceles\"\n",
    "        else:\n",
    "            return \"Escaleno\"\n",
    "    else:\n",
    "        return \"Os lados não formam um triângulo válido.\"\n",
    "\n",
    "# Exemplo de uso:\n",
    "lado1 = float(input(\"Digite o comprimento do primeiro lado: \"))\n",
    "lado2 = float(input(\"Digite o comprimento do segundo lado: \"))\n",
    "lado3 = float(input(\"Digite o comprimento do terceiro lado: \"))\n",
    "\n",
    "tipo = tipo_triangulo(lado1, lado2, lado3)\n",
    "print(f\"O triângulo é: {tipo}\")"
   ]
  }
 ],
 "metadata": {
  "kernelspec": {
   "display_name": "Python 3 (ipykernel)",
   "language": "python",
   "name": "python3"
  },
  "language_info": {
   "codemirror_mode": {
    "name": "ipython",
    "version": 3
   },
   "file_extension": ".py",
   "mimetype": "text/x-python",
   "name": "python",
   "nbconvert_exporter": "python",
   "pygments_lexer": "ipython3",
   "version": "3.11.5"
  }
 },
 "nbformat": 4,
 "nbformat_minor": 5
}
